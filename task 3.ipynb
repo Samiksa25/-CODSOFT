{
 "cells": [
  {
   "cell_type": "code",
   "execution_count": 1,
   "id": "7cd82b1d",
   "metadata": {},
   "outputs": [],
   "source": [
    "import pandas as pd\n",
    "import numpy as np\n",
    "import matplotlib.pyplot as plt\n",
    "import seaborn as sns\n",
    "\n",
    "from sklearn.model_selection import train_test_split\n",
    "from sklearn.feature_extraction.text import TfidfVectorizer\n",
    "from sklearn.naive_bayes import MultinomialNB\n",
    "from sklearn.linear_model import LogisticRegression\n",
    "from sklearn.svm import LinearSVC\n",
    "from sklearn.metrics import accuracy_score, confusion_matrix, classification_report\n"
   ]
  },
  {
   "cell_type": "code",
   "execution_count": 4,
   "id": "36a52bea",
   "metadata": {},
   "outputs": [
    {
     "name": "stdout",
     "output_type": "stream",
     "text": [
      "      label                                               text\n",
      "0         0  Go until jurong point, crazy.. Available only ...\n",
      "1         0                      Ok lar... Joking wif u oni...\n",
      "2         1  Free entry in 2 a wkly comp to win FA Cup fina...\n",
      "3         0  U dun say so early hor... U c already then say...\n",
      "4         0  Nah I don't think he goes to usf, he lives aro...\n",
      "...     ...                                                ...\n",
      "5567      1  This is the 2nd time we have tried 2 contact u...\n",
      "5568      0              Will Ì_ b going to esplanade fr home?\n",
      "5569      0  Pity, * was in mood for that. So...any other s...\n",
      "5570      0  The guy did some bitching but I acted like i'd...\n",
      "5571      0                         Rofl. Its true to its name\n",
      "\n",
      "[5572 rows x 2 columns]\n"
     ]
    }
   ],
   "source": [
    "# Load the dataset\n",
    "df = pd.read_csv('spam.csv', encoding='latin-1')\n",
    "\n",
    "# Keep only relevant columns\n",
    "df = df[['v1', 'v2']]\n",
    "df.columns = ['label', 'text']\n",
    "\n",
    "# Convert labels to binary\n",
    "df['label'] = df['label'].map({'ham': 0, 'spam': 1})\n",
    "print(df)\n"
   ]
  },
  {
   "cell_type": "code",
   "execution_count": 5,
   "id": "2c29d490",
   "metadata": {},
   "outputs": [
    {
     "name": "stdout",
     "output_type": "stream",
     "text": [
      "1978    No I'm in the same boat. Still here at my moms...\n",
      "3989    (Bank of Granite issues Strong-Buy) EXPLOSIVE ...\n",
      "3935       They r giving a second chance to rahul dengra.\n",
      "4078       O i played smash bros  &lt;#&gt;  religiously.\n",
      "4086    PRIVATE! Your 2003 Account Statement for 07973...\n",
      "                              ...                        \n",
      "3772    I came hostel. I m going to sleep. Plz call me...\n",
      "5191                               Sorry, I'll call later\n",
      "5226        Prabha..i'm soryda..realy..frm heart i'm sory\n",
      "5390                           Nt joking seriously i told\n",
      "860                   In work now. Going have in few min.\n",
      "Name: text, Length: 4457, dtype: object 3245    Funny fact Nobody teaches volcanoes 2 erupt, t...\n",
      "944     I sent my scores to sophas and i had to do sec...\n",
      "1044    We know someone who you know that fancies you....\n",
      "2484    Only if you promise your getting out as SOON a...\n",
      "812     Congratulations ur awarded either å£500 of CD ...\n",
      "                              ...                        \n",
      "4264     &lt;DECIMAL&gt; m but its not a common car he...\n",
      "2439    Rightio. 11.48 it is then. Well arent we all u...\n",
      "5556    Yes i have. So that's why u texted. Pshew...mi...\n",
      "4205                               Get the door, I'm here\n",
      "4293    Kit Strip - you have been billed 150p. Netcoll...\n",
      "Name: text, Length: 1115, dtype: object 1978    0\n",
      "3989    1\n",
      "3935    0\n",
      "4078    0\n",
      "4086    1\n",
      "       ..\n",
      "3772    0\n",
      "5191    0\n",
      "5226    0\n",
      "5390    0\n",
      "860     0\n",
      "Name: label, Length: 4457, dtype: int64 3245    0\n",
      "944     0\n",
      "1044    1\n",
      "2484    0\n",
      "812     1\n",
      "       ..\n",
      "4264    0\n",
      "2439    0\n",
      "5556    0\n",
      "4205    0\n",
      "4293    1\n",
      "Name: label, Length: 1115, dtype: int64\n"
     ]
    }
   ],
   "source": [
    "X = df['text']\n",
    "y = df['label']\n",
    "\n",
    "X_train, X_test, y_train, y_test = train_test_split(X, y, test_size=0.2, random_state=42)\n",
    "print(X_train, X_test, y_train, y_test)"
   ]
  },
  {
   "cell_type": "code",
   "execution_count": 6,
   "id": "0fc41a71",
   "metadata": {},
   "outputs": [
    {
     "name": "stdout",
     "output_type": "stream",
     "text": [
      "<Compressed Sparse Row sparse matrix of dtype 'float64'\n",
      "\twith 34794 stored elements and shape (4457, 7472)>\n",
      "  Coords\tValues\n",
      "  (0, 1371)\t0.4658046386365619\n",
      "  (0, 4416)\t0.4528381701109944\n",
      "  (0, 1706)\t0.3431839629173582\n",
      "  (0, 7415)\t0.348722265231364\n",
      "  (0, 3210)\t0.348722265231364\n",
      "  (0, 4520)\t0.4658046386365619\n",
      "  (1, 1187)\t0.26161139982801973\n",
      "  (1, 3140)\t0.3059746053542906\n",
      "  (1, 3631)\t0.2804339696184593\n",
      "  (1, 6296)\t0.269833648032668\n",
      "  (1, 1533)\t0.2015782058421696\n",
      "  (1, 2661)\t0.3059746053542906\n",
      "  (1, 5005)\t0.1937920260229529\n",
      "  (1, 4292)\t0.2953742837684993\n",
      "  (1, 419)\t0.28715203556385105\n",
      "  (1, 4533)\t0.3059746053542906\n",
      "  (1, 6440)\t0.2953742837684993\n",
      "  (1, 1649)\t0.3059746053542906\n",
      "  (1, 0)\t0.2654936554684193\n",
      "  (2, 3061)\t0.44585171875646595\n",
      "  (2, 5770)\t0.3962151014046925\n",
      "  (2, 1674)\t0.35156722029872034\n",
      "  (2, 5351)\t0.5102109014477275\n",
      "  (2, 2190)\t0.5102109014477275\n",
      "  (3, 5048)\t0.4444794309161828\n",
      "  :\t:\n",
      "  (4451, 5002)\t0.36484607066812064\n",
      "  (4451, 4939)\t0.36484607066812064\n",
      "  (4452, 3085)\t0.25923599228241945\n",
      "  (4452, 5070)\t0.3823754823843719\n",
      "  (4452, 5998)\t0.3311324953642251\n",
      "  (4452, 1781)\t0.3311324953642251\n",
      "  (4452, 1579)\t0.3576443319642905\n",
      "  (4452, 3423)\t0.4833413012939851\n",
      "  (4452, 3402)\t0.4536077050510107\n",
      "  (4453, 4022)\t0.5251399912435084\n",
      "  (4453, 3896)\t0.6138307933697734\n",
      "  (4453, 6102)\t0.5894401977366341\n",
      "  (4454, 3282)\t0.31753127203477105\n",
      "  (4454, 5161)\t0.43497582872738466\n",
      "  (4454, 6109)\t0.44743083090000146\n",
      "  (4454, 5413)\t0.40874206042479744\n",
      "  (4454, 2938)\t0.3775064911532845\n",
      "  (4454, 6108)\t0.44743083090000146\n",
      "  (4455, 3720)\t0.5663548747533713\n",
      "  (4455, 4674)\t0.47741741602516974\n",
      "  (4455, 5819)\t0.5321975225970689\n",
      "  (4455, 6701)\t0.40997629646174116\n",
      "  (4456, 3085)\t0.5132022683472269\n",
      "  (4456, 7301)\t0.5938942231507836\n",
      "  (4456, 4332)\t0.6196072009518515\n"
     ]
    }
   ],
   "source": [
    "tfidf = TfidfVectorizer(stop_words='english')\n",
    "X_train_tfidf = tfidf.fit_transform(X_train)\n",
    "X_test_tfidf = tfidf.transform(X_test)\n",
    "print(X_train_tfidf)\n"
   ]
  },
  {
   "cell_type": "code",
   "execution_count": 7,
   "id": "fe8bb45f",
   "metadata": {},
   "outputs": [
    {
     "name": "stdout",
     "output_type": "stream",
     "text": [
      "Naive Bayes Accuracy: 0.9668161434977578\n",
      "              precision    recall  f1-score   support\n",
      "\n",
      "           0       0.96      1.00      0.98       965\n",
      "           1       1.00      0.75      0.86       150\n",
      "\n",
      "    accuracy                           0.97      1115\n",
      "   macro avg       0.98      0.88      0.92      1115\n",
      "weighted avg       0.97      0.97      0.96      1115\n",
      "\n"
     ]
    }
   ],
   "source": [
    "nb = MultinomialNB()\n",
    "nb.fit(X_train_tfidf, y_train)\n",
    "y_pred_nb = nb.predict(X_test_tfidf)\n",
    "print(\"Naive Bayes Accuracy:\", accuracy_score(y_test, y_pred_nb))\n",
    "print(classification_report(y_test, y_pred_nb))\n"
   ]
  },
  {
   "cell_type": "code",
   "execution_count": 8,
   "id": "e2dc8a87",
   "metadata": {},
   "outputs": [
    {
     "name": "stdout",
     "output_type": "stream",
     "text": [
      "Logistic Regression Accuracy: 0.9524663677130045\n",
      "              precision    recall  f1-score   support\n",
      "\n",
      "           0       0.95      1.00      0.97       965\n",
      "           1       0.97      0.67      0.79       150\n",
      "\n",
      "    accuracy                           0.95      1115\n",
      "   macro avg       0.96      0.83      0.88      1115\n",
      "weighted avg       0.95      0.95      0.95      1115\n",
      "\n"
     ]
    }
   ],
   "source": [
    "lr = LogisticRegression()\n",
    "lr.fit(X_train_tfidf, y_train)\n",
    "y_pred_lr = lr.predict(X_test_tfidf)\n",
    "print(\"Logistic Regression Accuracy:\", accuracy_score(y_test, y_pred_lr))\n",
    "print(classification_report(y_test, y_pred_lr))\n"
   ]
  },
  {
   "cell_type": "code",
   "execution_count": 9,
   "id": "754e8905",
   "metadata": {},
   "outputs": [
    {
     "name": "stdout",
     "output_type": "stream",
     "text": [
      "SVM Accuracy: 0.97847533632287\n",
      "              precision    recall  f1-score   support\n",
      "\n",
      "           0       0.98      0.99      0.99       965\n",
      "           1       0.96      0.87      0.92       150\n",
      "\n",
      "    accuracy                           0.98      1115\n",
      "   macro avg       0.97      0.93      0.95      1115\n",
      "weighted avg       0.98      0.98      0.98      1115\n",
      "\n"
     ]
    }
   ],
   "source": [
    "svm = LinearSVC()\n",
    "svm.fit(X_train_tfidf, y_train)\n",
    "y_pred_svm = svm.predict(X_test_tfidf)\n",
    "print(\"SVM Accuracy:\", accuracy_score(y_test, y_pred_svm))\n",
    "print(classification_report(y_test, y_pred_svm))\n"
   ]
  },
  {
   "cell_type": "code",
   "execution_count": 10,
   "id": "c0a1be5f",
   "metadata": {},
   "outputs": [
    {
     "data": {
      "image/png": "[encoded data removed]",
      "text/plain": [
       "<Figure size 640x480 with 2 Axes>"
      ]
     },
     "metadata": {},
     "output_type": "display_data"
    }
   ],
   "source": [
    "sns.heatmap(confusion_matrix(y_test, y_pred_svm), annot=True, fmt='d', cmap='Blues')\n",
    "plt.xlabel(\"Predicted\")\n",
    "plt.ylabel(\"Actual\")\n",
    "plt.title(\"Confusion Matrix - SVM\")\n",
    "plt.show()\n"
   ]
  }
 ],
 "metadata": {
  "kernelspec": {
   "display_name": "Python 3",
   "language": "python",
   "name": "python3"
  },
  "language_info": {
   "codemirror_mode": {
    "name": "ipython",
    "version": 3
   },
   "file_extension": ".py",
   "mimetype": "text/x-python",
   "name": "python",
   "nbconvert_exporter": "python",
   "pygments_lexer": "ipython3",
   "version": "3.13.2"
  }
 },
 "nbformat": 4,
 "nbformat_minor": 5
}
